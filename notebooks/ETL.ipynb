{
 "cells": [
  {
   "cell_type": "code",
   "execution_count": 1,
   "id": "ce3d12a6",
   "metadata": {},
   "outputs": [
    {
     "ename": "ModuleNotFoundError",
     "evalue": "No module named 'pandas'",
     "output_type": "error",
     "traceback": [
      "\u001b[31m---------------------------------------------------------------------------\u001b[39m",
      "\u001b[31mModuleNotFoundError\u001b[39m                       Traceback (most recent call last)",
      "\u001b[36mCell\u001b[39m\u001b[36m \u001b[39m\u001b[32mIn[1]\u001b[39m\u001b[32m, line 4\u001b[39m\n\u001b[32m      2\u001b[39m \u001b[38;5;28;01mfrom\u001b[39;00m\u001b[38;5;250m \u001b[39m\u001b[34;01mtelethon\u001b[39;00m\u001b[38;5;250m \u001b[39m\u001b[38;5;28;01mimport\u001b[39;00m TelegramClient\n\u001b[32m      3\u001b[39m \u001b[38;5;28;01mfrom\u001b[39;00m\u001b[38;5;250m \u001b[39m\u001b[34;01mtelethon\u001b[39;00m\u001b[34;01m.\u001b[39;00m\u001b[34;01mtl\u001b[39;00m\u001b[34;01m.\u001b[39;00m\u001b[34;01mtypes\u001b[39;00m\u001b[38;5;250m \u001b[39m\u001b[38;5;28;01mimport\u001b[39;00m MessageMediaPhoto, MessageMediaDocument\n\u001b[32m----> \u001b[39m\u001b[32m4\u001b[39m \u001b[38;5;28;01mimport\u001b[39;00m\u001b[38;5;250m \u001b[39m\u001b[34;01mpandas\u001b[39;00m\u001b[38;5;250m \u001b[39m\u001b[38;5;28;01mas\u001b[39;00m\u001b[38;5;250m \u001b[39m\u001b[34;01mpd\u001b[39;00m\n\u001b[32m      5\u001b[39m \u001b[38;5;28;01mimport\u001b[39;00m\u001b[38;5;250m \u001b[39m\u001b[34;01mos\u001b[39;00m\n\u001b[32m      6\u001b[39m \u001b[38;5;28;01mfrom\u001b[39;00m\u001b[38;5;250m \u001b[39m\u001b[34;01mdatetime\u001b[39;00m\u001b[38;5;250m \u001b[39m\u001b[38;5;28;01mimport\u001b[39;00m datetime\n",
      "\u001b[31mModuleNotFoundError\u001b[39m: No module named 'pandas'"
     ]
    }
   ],
   "source": [
    "import asyncio\n",
    "from telethon import TelegramClient\n",
    "from telethon.tl.types import MessageMediaPhoto, MessageMediaDocument\n",
    "import pandas as pd\n",
    "import os\n",
    "from datetime import datetime\n",
    "import re\n",
    "import unicodedata\n",
    "from pathlib import Path\n",
    "import aiofiles"
   ]
  },
  {
   "cell_type": "code",
   "execution_count": null,
   "id": "82bad387",
   "metadata": {},
   "outputs": [],
   "source": [
    "# Telegram API credentials (replace with your own)\n",
    "api_id = 'YOUR_API_ID'  # Obtain from my.telegram.org\n",
    "api_hash = 'YOUR_API_HASH'  # Obtain from my.telegram.org\n",
    "phone = 'YOUR_PHONE_NUMBER'"
   ]
  },
  {
   "cell_type": "code",
   "execution_count": null,
   "id": "e80dad07",
   "metadata": {},
   "outputs": [],
   "source": [
    "# List of Telegram channels to scrape\n",
    "channels = [\n",
    "    '@ZemenExpress',\n",
    "    '@nevacomputer',\n",
    "    '@meneshayeofficial',\n",
    "    '@ethio_brand_collection',\n",
    "    '@Leyueqa'\n",
    "]"
   ]
  }
 ],
 "metadata": {
  "kernelspec": {
   "display_name": "venv",
   "language": "python",
   "name": "python3"
  },
  "language_info": {
   "codemirror_mode": {
    "name": "ipython",
    "version": 3
   },
   "file_extension": ".py",
   "mimetype": "text/x-python",
   "name": "python",
   "nbconvert_exporter": "python",
   "pygments_lexer": "ipython3",
   "version": "3.13.3"
  }
 },
 "nbformat": 4,
 "nbformat_minor": 5
}
